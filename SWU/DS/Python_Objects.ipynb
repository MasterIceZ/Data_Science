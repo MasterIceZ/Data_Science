{
 "cells": [
  {
   "cell_type": "code",
   "execution_count": 2,
   "metadata": {},
   "outputs": [
    {
     "name": "stdout",
     "output_type": "stream",
     "text": [
      "9\n",
      "{1, 2, 3, 4, 5}\n",
      "{'a': 'some data', 'b': [1, 2, 3, 4], 5: 'an int'}\n"
     ]
    }
   ],
   "source": [
    "# Mutable Object\n",
    "# List\n",
    "# Set\n",
    "# Dictionary\n",
    "\n",
    "ls = [1,2,3]\n",
    "ls[1] = 9\n",
    "print(ls[1])\n",
    "      \n",
    "a = {1,1,2,3,4,5}\n",
    "b = {3,4,5,6,7,8}\n",
    "a.union(b)\n",
    "print(a)\n",
    "      \n",
    "d1 = {'a': 'some data', 'b': [1,2,3,4]}\n",
    "d1[5] = 'an int'\n",
    "print(d1)"
   ]
  },
  {
   "cell_type": "code",
   "execution_count": 8,
   "metadata": {},
   "outputs": [
    {
     "data": {
      "text/plain": [
       "['ANT', 'BAT', 'SAT', 'MATRIX']"
      ]
     },
     "execution_count": 8,
     "metadata": {},
     "output_type": "execute_result"
    }
   ],
   "source": [
    "strings = ['a', 'ant', 'bat', 'sat', 'matrix']\n",
    "[x.upper() for x in strings if len(x) > 2]"
   ]
  },
  {
   "cell_type": "code",
   "execution_count": null,
   "metadata": {},
   "outputs": [],
   "source": []
  }
 ],
 "metadata": {
  "kernelspec": {
   "display_name": "Python 3",
   "language": "python",
   "name": "python3"
  },
  "language_info": {
   "codemirror_mode": {
    "name": "ipython",
    "version": 3
   },
   "file_extension": ".py",
   "mimetype": "text/x-python",
   "name": "python",
   "nbconvert_exporter": "python",
   "pygments_lexer": "ipython3",
   "version": "3.8.5"
  }
 },
 "nbformat": 4,
 "nbformat_minor": 4
}
